{
 "cells": [
  {
   "cell_type": "code",
   "execution_count": 1,
   "id": "275109c7-1d86-4333-b104-09d4d5da5fd2",
   "metadata": {},
   "outputs": [
    {
     "name": "stdout",
     "output_type": "stream",
     "text": [
      "Image DataFrame shape: (84, 2)\n"
     ]
    }
   ],
   "source": [
    "import os\n",
    "import pandas as pd\n",
    "import numpy as np\n",
    "import pydicom\n",
    "\n",
    "def read_image_df(data_dir):\n",
    "    \"\"\"\n",
    "    Recursively scan the data_dir and create a DataFrame that stores the image file paths\n",
    "    and the label, where the label is the folder name.\n",
    "    \"\"\"\n",
    "    data = []\n",
    "    for root, dirs, files in os.walk(data_dir):\n",
    "        # The folder name (last part of root) is used as the label\n",
    "        label = os.path.basename(root)\n",
    "        # Skip folders that are not labels (optional: you can add a check if labels are only '0' and '1')\n",
    "        if label not in ['0', '1']:\n",
    "            continue\n",
    "        for file in files:\n",
    "            if file.lower().endswith('.dcm'):\n",
    "                file_path = os.path.join(root, file)\n",
    "                data.append({\n",
    "                    \"file_path\": file_path,\n",
    "                    \"label\": int(label)  # convert label to integer if needed\n",
    "                })\n",
    "    return pd.DataFrame(data)\n",
    "\n",
    "# Define your data directory where the labeled folders ('0' and '1') are located.\n",
    "data_dir = '/Users/yavuzalpdemirci/Desktop/data_for_testing'\n",
    "\n",
    "# 1. Create the Image DataFrame: file_path and label (extracted from folder names)\n",
    "image_df = read_image_df(data_dir)\n",
    "print(\"Image DataFrame shape:\", image_df.shape)"
   ]
  },
  {
   "cell_type": "code",
   "execution_count": 2,
   "id": "cce7c99c-49a5-45bb-9c18-d6efaa01901d",
   "metadata": {},
   "outputs": [
    {
     "data": {
      "text/html": [
       "<div>\n",
       "<style scoped>\n",
       "    .dataframe tbody tr th:only-of-type {\n",
       "        vertical-align: middle;\n",
       "    }\n",
       "\n",
       "    .dataframe tbody tr th {\n",
       "        vertical-align: top;\n",
       "    }\n",
       "\n",
       "    .dataframe thead th {\n",
       "        text-align: right;\n",
       "    }\n",
       "</style>\n",
       "<table border=\"1\" class=\"dataframe\">\n",
       "  <thead>\n",
       "    <tr style=\"text-align: right;\">\n",
       "      <th></th>\n",
       "      <th>file_path</th>\n",
       "      <th>label</th>\n",
       "    </tr>\n",
       "  </thead>\n",
       "  <tbody>\n",
       "    <tr>\n",
       "      <th>0</th>\n",
       "      <td>/Users/yavuzalpdemirci/Desktop/data_for_testin...</td>\n",
       "      <td>0</td>\n",
       "    </tr>\n",
       "    <tr>\n",
       "      <th>1</th>\n",
       "      <td>/Users/yavuzalpdemirci/Desktop/data_for_testin...</td>\n",
       "      <td>0</td>\n",
       "    </tr>\n",
       "    <tr>\n",
       "      <th>2</th>\n",
       "      <td>/Users/yavuzalpdemirci/Desktop/data_for_testin...</td>\n",
       "      <td>0</td>\n",
       "    </tr>\n",
       "    <tr>\n",
       "      <th>3</th>\n",
       "      <td>/Users/yavuzalpdemirci/Desktop/data_for_testin...</td>\n",
       "      <td>0</td>\n",
       "    </tr>\n",
       "    <tr>\n",
       "      <th>4</th>\n",
       "      <td>/Users/yavuzalpdemirci/Desktop/data_for_testin...</td>\n",
       "      <td>0</td>\n",
       "    </tr>\n",
       "  </tbody>\n",
       "</table>\n",
       "</div>"
      ],
      "text/plain": [
       "                                           file_path  label\n",
       "0  /Users/yavuzalpdemirci/Desktop/data_for_testin...      0\n",
       "1  /Users/yavuzalpdemirci/Desktop/data_for_testin...      0\n",
       "2  /Users/yavuzalpdemirci/Desktop/data_for_testin...      0\n",
       "3  /Users/yavuzalpdemirci/Desktop/data_for_testin...      0\n",
       "4  /Users/yavuzalpdemirci/Desktop/data_for_testin...      0"
      ]
     },
     "execution_count": 2,
     "metadata": {},
     "output_type": "execute_result"
    }
   ],
   "source": [
    "image_df.head()"
   ]
  },
  {
   "cell_type": "code",
   "execution_count": 3,
   "id": "312d019a-d8bb-43c1-9a8a-d0ee7d4527ee",
   "metadata": {},
   "outputs": [
    {
     "name": "stdout",
     "output_type": "stream",
     "text": [
      "<class 'pandas.core.frame.DataFrame'>\n",
      "RangeIndex: 84 entries, 0 to 83\n",
      "Data columns (total 2 columns):\n",
      " #   Column     Non-Null Count  Dtype \n",
      "---  ------     --------------  ----- \n",
      " 0   file_path  84 non-null     object\n",
      " 1   label      84 non-null     int64 \n",
      "dtypes: int64(1), object(1)\n",
      "memory usage: 1.4+ KB\n"
     ]
    }
   ],
   "source": [
    "image_df.info()"
   ]
  },
  {
   "cell_type": "code",
   "execution_count": 4,
   "id": "5f65e872-6ee8-47b9-a1eb-7eed92eccdfb",
   "metadata": {},
   "outputs": [
    {
     "data": {
      "text/plain": [
       "'/Users/yavuzalpdemirci/Desktop/data_for_testing/0/10023.dcm'"
      ]
     },
     "execution_count": 4,
     "metadata": {},
     "output_type": "execute_result"
    }
   ],
   "source": [
    "image_df.file_path[1]"
   ]
  },
  {
   "cell_type": "code",
   "execution_count": 5,
   "id": "7278d7e6-fa22-4386-a133-2820c53302be",
   "metadata": {},
   "outputs": [
    {
     "name": "stdout",
     "output_type": "stream",
     "text": [
      "Metadata DataFrame shape: (84, 14)\n"
     ]
    }
   ],
   "source": [
    "def process_window_value(window_value):\n",
    "    if isinstance(window_value, pydicom.multival.MultiValue):\n",
    "        return list(window_value) \n",
    "    else:\n",
    "        return [float(window_value)] \n",
    "\n",
    "def read_metadata_df(data_dir):\n",
    "    \"\"\"\n",
    "    Recursively scan the data_dir and create a DataFrame that stores the file path and extracted metadata.\n",
    "    \"\"\"\n",
    "    metadata_list = []\n",
    "    for root, dirs, files in os.walk(data_dir):\n",
    "        for file in files:\n",
    "            if file.lower().endswith('.dcm'):\n",
    "                file_path = os.path.join(root, file)\n",
    "                try:\n",
    "                    ds = pydicom.dcmread(file_path)\n",
    "                    # Extract all the relevant metadata fields\n",
    "                    metadata = {\n",
    "                        \"file_path\": file_path,\n",
    "                        \"SliceThickness\": float(ds.SliceThickness),\n",
    "                        \"SamplesPerPixel\": float(ds.SamplesPerPixel),\n",
    "                        \"Photometric Interpretation\": ds.PhotometricInterpretation,\n",
    "                        \"PixelSpacing\": process_window_value(ds.PixelSpacing),\n",
    "                        \"BitsAllocated\": float(ds.BitsAllocated),\n",
    "                        \"BitsStored\": float(ds.BitsStored),\n",
    "                        \"HighBit\": float(ds.HighBit),\n",
    "                        \"PixelRepresentation\": float(ds.PixelRepresentation),\n",
    "                        \"WindowCenter\":  process_window_value(ds.WindowCenter),\n",
    "                        \"WindowWidth\": process_window_value(ds.WindowWidth),\n",
    "                        \"RescaleIntercept\": float(ds.RescaleIntercept),\n",
    "                        \"RescaleSlope\": float(ds.RescaleSlope),\n",
    "                        \"RescaleType\": ds.RescaleType\n",
    "                    }\n",
    "                    metadata_list.append(metadata)\n",
    "                except Exception as e:\n",
    "                    print(f\"Error reading metadata from {file_path}: {e}\")\n",
    "    return pd.DataFrame(metadata_list)\n",
    "\n",
    "\n",
    "metadata_df = read_metadata_df(data_dir)\n",
    "print(\"Metadata DataFrame shape:\", metadata_df.shape)"
   ]
  },
  {
   "cell_type": "code",
   "execution_count": 6,
   "id": "0769f121-2e10-4344-a707-e3029e56a57d",
   "metadata": {},
   "outputs": [
    {
     "data": {
      "text/html": [
       "<div>\n",
       "<style scoped>\n",
       "    .dataframe tbody tr th:only-of-type {\n",
       "        vertical-align: middle;\n",
       "    }\n",
       "\n",
       "    .dataframe tbody tr th {\n",
       "        vertical-align: top;\n",
       "    }\n",
       "\n",
       "    .dataframe thead th {\n",
       "        text-align: right;\n",
       "    }\n",
       "</style>\n",
       "<table border=\"1\" class=\"dataframe\">\n",
       "  <thead>\n",
       "    <tr style=\"text-align: right;\">\n",
       "      <th></th>\n",
       "      <th>file_path</th>\n",
       "      <th>SliceThickness</th>\n",
       "      <th>SamplesPerPixel</th>\n",
       "      <th>Photometric Interpretation</th>\n",
       "      <th>PixelSpacing</th>\n",
       "      <th>BitsAllocated</th>\n",
       "      <th>BitsStored</th>\n",
       "      <th>HighBit</th>\n",
       "      <th>PixelRepresentation</th>\n",
       "      <th>WindowCenter</th>\n",
       "      <th>WindowWidth</th>\n",
       "      <th>RescaleIntercept</th>\n",
       "      <th>RescaleSlope</th>\n",
       "      <th>RescaleType</th>\n",
       "    </tr>\n",
       "  </thead>\n",
       "  <tbody>\n",
       "    <tr>\n",
       "      <th>0</th>\n",
       "      <td>/Users/yavuzalpdemirci/Desktop/data_for_testin...</td>\n",
       "      <td>4.0</td>\n",
       "      <td>1.0</td>\n",
       "      <td>MONOCHROME2</td>\n",
       "      <td>[0.42485546875, 0.42485546875]</td>\n",
       "      <td>16.0</td>\n",
       "      <td>16.0</td>\n",
       "      <td>15.0</td>\n",
       "      <td>0.0</td>\n",
       "      <td>[35.0]</td>\n",
       "      <td>[80.0]</td>\n",
       "      <td>-8192.0</td>\n",
       "      <td>1.0</td>\n",
       "      <td>HU</td>\n",
       "    </tr>\n",
       "    <tr>\n",
       "      <th>1</th>\n",
       "      <td>/Users/yavuzalpdemirci/Desktop/data_for_testin...</td>\n",
       "      <td>5.0</td>\n",
       "      <td>1.0</td>\n",
       "      <td>MONOCHROME2</td>\n",
       "      <td>[0.44140625, 0.44140625]</td>\n",
       "      <td>16.0</td>\n",
       "      <td>12.0</td>\n",
       "      <td>11.0</td>\n",
       "      <td>0.0</td>\n",
       "      <td>[35, 700]</td>\n",
       "      <td>[80, 3200]</td>\n",
       "      <td>-1024.0</td>\n",
       "      <td>1.0</td>\n",
       "      <td>US</td>\n",
       "    </tr>\n",
       "    <tr>\n",
       "      <th>2</th>\n",
       "      <td>/Users/yavuzalpdemirci/Desktop/data_for_testin...</td>\n",
       "      <td>2.5</td>\n",
       "      <td>1.0</td>\n",
       "      <td>MONOCHROME2</td>\n",
       "      <td>[0.488281, 0.488281]</td>\n",
       "      <td>16.0</td>\n",
       "      <td>16.0</td>\n",
       "      <td>15.0</td>\n",
       "      <td>1.0</td>\n",
       "      <td>[40.0]</td>\n",
       "      <td>[100.0]</td>\n",
       "      <td>-1024.0</td>\n",
       "      <td>1.0</td>\n",
       "      <td>HU</td>\n",
       "    </tr>\n",
       "    <tr>\n",
       "      <th>3</th>\n",
       "      <td>/Users/yavuzalpdemirci/Desktop/data_for_testin...</td>\n",
       "      <td>5.0</td>\n",
       "      <td>1.0</td>\n",
       "      <td>MONOCHROME2</td>\n",
       "      <td>[0.449, 0.449]</td>\n",
       "      <td>16.0</td>\n",
       "      <td>16.0</td>\n",
       "      <td>15.0</td>\n",
       "      <td>1.0</td>\n",
       "      <td>[40.0]</td>\n",
       "      <td>[120.0]</td>\n",
       "      <td>0.0</td>\n",
       "      <td>1.0</td>\n",
       "      <td>US</td>\n",
       "    </tr>\n",
       "    <tr>\n",
       "      <th>4</th>\n",
       "      <td>/Users/yavuzalpdemirci/Desktop/data_for_testin...</td>\n",
       "      <td>5.0</td>\n",
       "      <td>1.0</td>\n",
       "      <td>MONOCHROME2</td>\n",
       "      <td>[0.455078125, 0.455078125]</td>\n",
       "      <td>16.0</td>\n",
       "      <td>12.0</td>\n",
       "      <td>11.0</td>\n",
       "      <td>0.0</td>\n",
       "      <td>[35, 700]</td>\n",
       "      <td>[80, 3200]</td>\n",
       "      <td>-1024.0</td>\n",
       "      <td>1.0</td>\n",
       "      <td>US</td>\n",
       "    </tr>\n",
       "  </tbody>\n",
       "</table>\n",
       "</div>"
      ],
      "text/plain": [
       "                                           file_path  SliceThickness  \\\n",
       "0  /Users/yavuzalpdemirci/Desktop/data_for_testin...             4.0   \n",
       "1  /Users/yavuzalpdemirci/Desktop/data_for_testin...             5.0   \n",
       "2  /Users/yavuzalpdemirci/Desktop/data_for_testin...             2.5   \n",
       "3  /Users/yavuzalpdemirci/Desktop/data_for_testin...             5.0   \n",
       "4  /Users/yavuzalpdemirci/Desktop/data_for_testin...             5.0   \n",
       "\n",
       "   SamplesPerPixel Photometric Interpretation                    PixelSpacing  \\\n",
       "0              1.0                MONOCHROME2  [0.42485546875, 0.42485546875]   \n",
       "1              1.0                MONOCHROME2        [0.44140625, 0.44140625]   \n",
       "2              1.0                MONOCHROME2            [0.488281, 0.488281]   \n",
       "3              1.0                MONOCHROME2                  [0.449, 0.449]   \n",
       "4              1.0                MONOCHROME2      [0.455078125, 0.455078125]   \n",
       "\n",
       "   BitsAllocated  BitsStored  HighBit  PixelRepresentation WindowCenter  \\\n",
       "0           16.0        16.0     15.0                  0.0       [35.0]   \n",
       "1           16.0        12.0     11.0                  0.0    [35, 700]   \n",
       "2           16.0        16.0     15.0                  1.0       [40.0]   \n",
       "3           16.0        16.0     15.0                  1.0       [40.0]   \n",
       "4           16.0        12.0     11.0                  0.0    [35, 700]   \n",
       "\n",
       "  WindowWidth  RescaleIntercept  RescaleSlope RescaleType  \n",
       "0      [80.0]           -8192.0           1.0          HU  \n",
       "1  [80, 3200]           -1024.0           1.0          US  \n",
       "2     [100.0]           -1024.0           1.0          HU  \n",
       "3     [120.0]               0.0           1.0          US  \n",
       "4  [80, 3200]           -1024.0           1.0          US  "
      ]
     },
     "execution_count": 6,
     "metadata": {},
     "output_type": "execute_result"
    }
   ],
   "source": [
    "metadata_df.head()"
   ]
  },
  {
   "cell_type": "code",
   "execution_count": null,
   "id": "83789ea0-5ef0-488e-81b8-87e850cf94b4",
   "metadata": {},
   "outputs": [],
   "source": []
  },
  {
   "cell_type": "code",
   "execution_count": 7,
   "id": "ade334b5-b578-49fd-a17e-6b7b31ea4c7c",
   "metadata": {},
   "outputs": [],
   "source": [
    "from sklearn.model_selection import train_test_split, StratifiedKFold\n",
    "\n",
    "def split_dataset(df):\n",
    "    \"\"\"\n",
    "    Split DataFrame into training (70%), validation (20%), and test (10%) sets.\n",
    "    Stratification is applied based on the 'label' column.\n",
    "    \"\"\"\n",
    "    # First, extract the test set (10%)\n",
    "    train_val, test = train_test_split(df, test_size=0.10, stratify=df['label'], random_state=42)\n",
    "    # Then split train_val into train (70%) and validation (20%)\n",
    "    # Since train_val is 90%, a 22.22% split of it yields approximately 20% of the full dataset.\n",
    "    train, val = train_test_split(train_val, test_size=0.2222, stratify=train_val['label'], random_state=42)\n",
    "    return train, val, test\n",
    "\n",
    "x, y, z=split_dataset(image_df)"
   ]
  },
  {
   "cell_type": "code",
   "execution_count": 8,
   "id": "0f0fa97c-26cf-444c-b4b1-eb513bfc7487",
   "metadata": {},
   "outputs": [
    {
     "name": "stdout",
     "output_type": "stream",
     "text": [
      "Train Dataset Size: (58, 2)\n",
      "Val Dataset Size: (17, 2)\n",
      "Test Dataset Size: (9, 2)\n"
     ]
    }
   ],
   "source": [
    "print(f'Train Dataset Size: {x.shape}')\n",
    "print(f'Val Dataset Size: {y.shape}')\n",
    "print(f'Test Dataset Size: {z.shape}')"
   ]
  },
  {
   "cell_type": "code",
   "execution_count": 9,
   "id": "0672e8d9-58ba-4300-9b7e-a14262f6daa8",
   "metadata": {},
   "outputs": [],
   "source": [
    "def get_stratified_kfold(df, n_splits=5):\n",
    "    \"\"\"\n",
    "    Return stratified k-fold indices for cross validation.\n",
    "    \"\"\"\n",
    "    skf = StratifiedKFold(n_splits=n_splits, shuffle=True, random_state=42)\n",
    "    X = df.index.values\n",
    "    y = df['label'].values\n",
    "    return list(skf.split(X, y))\n",
    "\n",
    "cross = get_stratified_kfold(x)"
   ]
  },
  {
   "cell_type": "code",
   "execution_count": null,
   "id": "ea509d8b-3c27-45e2-8062-84a6e6447651",
   "metadata": {},
   "outputs": [],
   "source": []
  },
  {
   "cell_type": "code",
   "execution_count": 11,
   "id": "f41c2221-8db9-4760-ad4d-28295f2e8b32",
   "metadata": {},
   "outputs": [
    {
     "data": {
      "text/plain": [
       "'/Users/yavuzalpdemirci/Desktop/data_for_testing/0/10022.dcm'"
      ]
     },
     "execution_count": 11,
     "metadata": {},
     "output_type": "execute_result"
    }
   ],
   "source": [
    "metadata_df['file_path'][0]"
   ]
  },
  {
   "cell_type": "code",
   "execution_count": 14,
   "id": "6772ba85-62b1-4115-bc02-c82ef76061a4",
   "metadata": {},
   "outputs": [],
   "source": [
    "metadata_row = metadata_df[metadata_df['file_path'] == '/Users/yavuzalpdemirci/Desktop/data_for_testing/0/10023.dcm']"
   ]
  },
  {
   "cell_type": "code",
   "execution_count": 15,
   "id": "ad49b09d-44bd-4793-8ffb-aa260a976255",
   "metadata": {},
   "outputs": [
    {
     "data": {
      "text/html": [
       "<div>\n",
       "<style scoped>\n",
       "    .dataframe tbody tr th:only-of-type {\n",
       "        vertical-align: middle;\n",
       "    }\n",
       "\n",
       "    .dataframe tbody tr th {\n",
       "        vertical-align: top;\n",
       "    }\n",
       "\n",
       "    .dataframe thead th {\n",
       "        text-align: right;\n",
       "    }\n",
       "</style>\n",
       "<table border=\"1\" class=\"dataframe\">\n",
       "  <thead>\n",
       "    <tr style=\"text-align: right;\">\n",
       "      <th></th>\n",
       "      <th>file_path</th>\n",
       "      <th>SliceThickness</th>\n",
       "      <th>SamplesPerPixel</th>\n",
       "      <th>Photometric Interpretation</th>\n",
       "      <th>PixelSpacing</th>\n",
       "      <th>BitsAllocated</th>\n",
       "      <th>BitsStored</th>\n",
       "      <th>HighBit</th>\n",
       "      <th>PixelRepresentation</th>\n",
       "      <th>WindowCenter</th>\n",
       "      <th>WindowWidth</th>\n",
       "      <th>RescaleIntercept</th>\n",
       "      <th>RescaleSlope</th>\n",
       "      <th>RescaleType</th>\n",
       "    </tr>\n",
       "  </thead>\n",
       "  <tbody>\n",
       "    <tr>\n",
       "      <th>1</th>\n",
       "      <td>/Users/yavuzalpdemirci/Desktop/data_for_testin...</td>\n",
       "      <td>5.0</td>\n",
       "      <td>1.0</td>\n",
       "      <td>MONOCHROME2</td>\n",
       "      <td>[0.44140625, 0.44140625]</td>\n",
       "      <td>16.0</td>\n",
       "      <td>12.0</td>\n",
       "      <td>11.0</td>\n",
       "      <td>0.0</td>\n",
       "      <td>[35, 700]</td>\n",
       "      <td>[80, 3200]</td>\n",
       "      <td>-1024.0</td>\n",
       "      <td>1.0</td>\n",
       "      <td>US</td>\n",
       "    </tr>\n",
       "  </tbody>\n",
       "</table>\n",
       "</div>"
      ],
      "text/plain": [
       "                                           file_path  SliceThickness  \\\n",
       "1  /Users/yavuzalpdemirci/Desktop/data_for_testin...             5.0   \n",
       "\n",
       "   SamplesPerPixel Photometric Interpretation              PixelSpacing  \\\n",
       "1              1.0                MONOCHROME2  [0.44140625, 0.44140625]   \n",
       "\n",
       "   BitsAllocated  BitsStored  HighBit  PixelRepresentation WindowCenter  \\\n",
       "1           16.0        12.0     11.0                  0.0    [35, 700]   \n",
       "\n",
       "  WindowWidth  RescaleIntercept  RescaleSlope RescaleType  \n",
       "1  [80, 3200]           -1024.0           1.0          US  "
      ]
     },
     "execution_count": 15,
     "metadata": {},
     "output_type": "execute_result"
    }
   ],
   "source": [
    "metadata_row"
   ]
  },
  {
   "cell_type": "code",
   "execution_count": 16,
   "id": "357c0b47-6e5d-4ad3-9d9f-2ce26c38da2f",
   "metadata": {},
   "outputs": [
    {
     "data": {
      "text/plain": [
       "numpy.float64"
      ]
     },
     "execution_count": 16,
     "metadata": {},
     "output_type": "execute_result"
    }
   ],
   "source": [
    "type(metadata_row['RescaleSlope'].values[0])"
   ]
  },
  {
   "cell_type": "code",
   "execution_count": 17,
   "id": "7ba06b8c-96ed-4159-8b3b-cae5bdee1146",
   "metadata": {},
   "outputs": [
    {
     "name": "stdout",
     "output_type": "stream",
     "text": [
      "<class 'pandas.core.frame.DataFrame'>\n",
      "RangeIndex: 84 entries, 0 to 83\n",
      "Data columns (total 14 columns):\n",
      " #   Column                      Non-Null Count  Dtype  \n",
      "---  ------                      --------------  -----  \n",
      " 0   file_path                   84 non-null     object \n",
      " 1   SliceThickness              84 non-null     float64\n",
      " 2   SamplesPerPixel             84 non-null     float64\n",
      " 3   Photometric Interpretation  84 non-null     object \n",
      " 4   PixelSpacing                84 non-null     object \n",
      " 5   BitsAllocated               84 non-null     float64\n",
      " 6   BitsStored                  84 non-null     float64\n",
      " 7   HighBit                     84 non-null     float64\n",
      " 8   PixelRepresentation         84 non-null     float64\n",
      " 9   WindowCenter                84 non-null     object \n",
      " 10  WindowWidth                 84 non-null     object \n",
      " 11  RescaleIntercept            84 non-null     float64\n",
      " 12  RescaleSlope                84 non-null     float64\n",
      " 13  RescaleType                 84 non-null     object \n",
      "dtypes: float64(8), object(6)\n",
      "memory usage: 9.3+ KB\n"
     ]
    }
   ],
   "source": [
    "metadata_df.info()"
   ]
  },
  {
   "cell_type": "code",
   "execution_count": 18,
   "id": "01d30d86-dd6e-421c-a0bd-6d4661b5d0a0",
   "metadata": {},
   "outputs": [
    {
     "data": {
      "text/plain": [
       "Index(['SliceThickness', 'SamplesPerPixel', 'BitsAllocated', 'BitsStored',\n",
       "       'HighBit', 'PixelRepresentation', 'RescaleIntercept', 'RescaleSlope'],\n",
       "      dtype='object')"
      ]
     },
     "execution_count": 18,
     "metadata": {},
     "output_type": "execute_result"
    }
   ],
   "source": [
    "metadata_df.select_dtypes(include=['int', 'float']).columns"
   ]
  },
  {
   "cell_type": "code",
   "execution_count": 19,
   "id": "3bd33fb4-36ca-421c-8597-3e33a738cd93",
   "metadata": {},
   "outputs": [],
   "source": [
    "for col in metadata_df.select_dtypes(include=['int', 'float']).columns:\n",
    "    metadata_df[col] = metadata_df[col].astype('float32')"
   ]
  },
  {
   "cell_type": "code",
   "execution_count": null,
   "id": "d80891dd-4794-404c-89f9-2842510e22df",
   "metadata": {},
   "outputs": [],
   "source": []
  },
  {
   "cell_type": "code",
   "execution_count": 20,
   "id": "129d550d-2467-4e15-899a-b8cd4f0ac53c",
   "metadata": {},
   "outputs": [],
   "source": [
    "import numpy as np\n",
    "import pandas as pd\n",
    "import pydicom\n",
    "import cv2 \n",
    "\n",
    "def apply_window(hu_image, center, width):\n",
    "    min_value = center - width // 2\n",
    "    max_value = center + width // 2\n",
    "    windowed = np.clip(hu_image, min_value, max_value)\n",
    "    # Normalize to 0-1 range\n",
    "    normalized = (windowed - min_value) / width\n",
    "    return normalized\n",
    "\n",
    "def preprocess_with_metadata_from_df(dicom_path, metadata_df, target_shape=(512, 512)):\n",
    "    \"\"\"\n",
    "    Reads a DICOM file, applies windowing transformations, and resizes to a fixed shape.\n",
    "    \n",
    "    Args:\n",
    "        dicom_path (str): Path to the DICOM file.\n",
    "        metadata_df (pd.DataFrame): DataFrame containing metadata for the images.\n",
    "        target_shape (tuple): Desired (height, width) for the output image.\n",
    "\n",
    "    Returns:\n",
    "        np.ndarray: Processed image with shape (512, 512, 4).\n",
    "    \"\"\"\n",
    "    # Find the metadata row for this specific file\n",
    "    metadata_row = metadata_df[metadata_df['file_path'] == dicom_path]\n",
    "\n",
    "    if metadata_row.empty:\n",
    "        raise ValueError(f\"No metadata found for {dicom_path} in the DataFrame\")\n",
    "\n",
    "    # Extract metadata values from the DataFrame\n",
    "    rescale_slope = metadata_row['RescaleSlope'].values[0]\n",
    "    rescale_intercept = metadata_row['RescaleIntercept'].values[0]\n",
    "    slice_thickness = metadata_row['SliceThickness'].values[0]\n",
    "    pixel_spacing = metadata_row['PixelSpacing'].values[0][0]  # Extract first value if it's a list\n",
    "\n",
    "    # Load DICOM and get pixel array\n",
    "    ds = pydicom.dcmread(dicom_path)\n",
    "    pixel_array = ds.pixel_array\n",
    "\n",
    "    # Convert to Hounsfield Units using rescale values\n",
    "    hu_image = pixel_array * float(rescale_slope) + float(rescale_intercept)\n",
    "\n",
    "    # Apply windowing for different medical image views\n",
    "    brain_window = apply_window(hu_image, center=40, width=80)\n",
    "    subdural_window = apply_window(hu_image, center=80, width=200)\n",
    "    stroke_window = apply_window(hu_image, center=50, width=50)\n",
    "\n",
    "    # Create a resolution map\n",
    "    resolution_map = np.ones_like(brain_window) * (slice_thickness / pixel_spacing)\n",
    "\n",
    "    # Resize each channel to (512, 512) before stacking\n",
    "    brain_window_resized = cv2.resize(brain_window, target_shape, interpolation=cv2.INTER_AREA)\n",
    "    subdural_window_resized = cv2.resize(subdural_window, target_shape, interpolation=cv2.INTER_AREA)\n",
    "    stroke_window_resized = cv2.resize(stroke_window, target_shape, interpolation=cv2.INTER_AREA)\n",
    "    resolution_map_resized = cv2.resize(resolution_map, target_shape, interpolation=cv2.INTER_AREA)\n",
    "\n",
    "    # Stack all channels together to maintain (512, 512, 4) shape\n",
    "    multichannel_input = np.stack([\n",
    "        brain_window_resized,\n",
    "        subdural_window_resized,\n",
    "        stroke_window_resized,\n",
    "        resolution_map_resized\n",
    "    ], axis=-1)\n",
    "\n",
    "    return multichannel_input\n",
    "\n",
    "\n",
    "def load_and_process_images(df, process_fn, metadata_df, target_shape=(512, 512)):\n",
    "    \"\"\"\n",
    "    Loads and processes images from file paths using a custom processing function.\n",
    "    Ensures all images have a consistent shape.\n",
    "    \n",
    "    Args:\n",
    "        df (pd.DataFrame): DataFrame containing image file paths.\n",
    "        process_fn (function): Function to preprocess images.\n",
    "        metadata_df (pd.DataFrame): DataFrame containing metadata.\n",
    "        target_shape (tuple): Desired image shape (height, width).\n",
    "\n",
    "    Returns:\n",
    "        np.ndarray: Numpy array of processed images with shape (N, 512, 512, 4).\n",
    "    \"\"\"\n",
    "    processed_images = []\n",
    "    \n",
    "    for idx, row in df.iterrows():\n",
    "        try:\n",
    "            processed_image = process_fn(row['file_path'], metadata_df, target_shape)\n",
    "            processed_images.append(processed_image)\n",
    "        except Exception as e:\n",
    "            print(f\"Error processing {row['file_path']}: {e}\")\n",
    "\n",
    "    return np.array(processed_images)  # Now guaranteed to work\n"
   ]
  },
  {
   "cell_type": "code",
   "execution_count": 21,
   "id": "554a585d-cef7-4cd5-b940-ea93a1995030",
   "metadata": {},
   "outputs": [],
   "source": [
    "processed_images = load_and_process_images(image_df, preprocess_with_metadata_from_df, metadata_df)"
   ]
  },
  {
   "cell_type": "code",
   "execution_count": 22,
   "id": "9675acd2-b319-47ba-987a-3ecc6a59fcf9",
   "metadata": {},
   "outputs": [
    {
     "data": {
      "text/plain": [
       "(84, 512, 512, 4)"
      ]
     },
     "execution_count": 22,
     "metadata": {},
     "output_type": "execute_result"
    }
   ],
   "source": [
    "processed_images.shape"
   ]
  },
  {
   "cell_type": "code",
   "execution_count": 23,
   "id": "549cec93-d708-4a55-a5ab-fb1074ad2ab4",
   "metadata": {
    "scrolled": true
   },
   "outputs": [
    {
     "data": {
      "text/plain": [
       "(512, 512, 4)"
      ]
     },
     "execution_count": 23,
     "metadata": {},
     "output_type": "execute_result"
    }
   ],
   "source": [
    "processed_images[0].shape"
   ]
  },
  {
   "cell_type": "code",
   "execution_count": null,
   "id": "24446f6e-8089-474b-90d8-6a3be8ad36f7",
   "metadata": {},
   "outputs": [],
   "source": []
  },
  {
   "cell_type": "code",
   "execution_count": null,
   "id": "75710308-2423-420a-b4dd-d5986953eaf6",
   "metadata": {},
   "outputs": [],
   "source": []
  },
  {
   "cell_type": "code",
   "execution_count": null,
   "id": "23b00fba-c9d7-444e-b84a-dd61f17b7a6c",
   "metadata": {},
   "outputs": [],
   "source": []
  }
 ],
 "metadata": {
  "kernelspec": {
   "display_name": "Python 3 (ipykernel)",
   "language": "python",
   "name": "python3"
  },
  "language_info": {
   "codemirror_mode": {
    "name": "ipython",
    "version": 3
   },
   "file_extension": ".py",
   "mimetype": "text/x-python",
   "name": "python",
   "nbconvert_exporter": "python",
   "pygments_lexer": "ipython3",
   "version": "3.11.8"
  }
 },
 "nbformat": 4,
 "nbformat_minor": 5
}
